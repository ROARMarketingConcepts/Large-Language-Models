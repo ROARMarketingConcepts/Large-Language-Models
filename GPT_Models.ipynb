{
  "cells": [
    {
      "cell_type": "markdown",
      "metadata": {
        "id": "view-in-github",
        "colab_type": "text"
      },
      "source": [
        "<a href=\"https://colab.research.google.com/github/ROARMarketingConcepts/Large-Language-Models/blob/main/GPT_Models.ipynb\" target=\"_parent\"><img src=\"https://colab.research.google.com/assets/colab-badge.svg\" alt=\"Open In Colab\"/></a>"
      ]
    },
    {
      "cell_type": "markdown",
      "id": "a59c1c63-82b4-423a-9fd7-a8bba5614a55",
      "metadata": {
        "id": "a59c1c63-82b4-423a-9fd7-a8bba5614a55"
      },
      "source": [
        "## Setting up the API"
      ]
    },
    {
      "cell_type": "code",
      "source": [
        "import openai\n",
        "from google.colab import userdata"
      ],
      "metadata": {
        "id": "j_PuCH_dtUkd"
      },
      "id": "j_PuCH_dtUkd",
      "execution_count": 1,
      "outputs": []
    },
    {
      "cell_type": "markdown",
      "source": [
        "Set up OpenAI API key..."
      ],
      "metadata": {
        "id": "-i6hBJh7tpDo"
      },
      "id": "-i6hBJh7tpDo"
    },
    {
      "cell_type": "code",
      "source": [
        "api_key = userdata.get('OpenAI_API_key')\n",
        "openai.api_key = api_key"
      ],
      "metadata": {
        "id": "zRdtaWyDsz_m"
      },
      "id": "zRdtaWyDsz_m",
      "execution_count": 2,
      "outputs": []
    },
    {
      "cell_type": "markdown",
      "id": "d1a36bd5-6854-4266-8d28-49578f7f6b0a",
      "metadata": {
        "id": "d1a36bd5-6854-4266-8d28-49578f7f6b0a"
      },
      "source": [
        "## Generating Text"
      ]
    },
    {
      "cell_type": "code",
      "execution_count": 3,
      "id": "eb0072d9-f5e0-4df6-ab6b-a8f4a4e89567",
      "metadata": {
        "id": "eb0072d9-f5e0-4df6-ab6b-a8f4a4e89567"
      },
      "outputs": [],
      "source": [
        "def generate_text(prompt):\n",
        "    response = openai.Completion.create(\n",
        "        engine=\"davinci-002\",\n",
        "        prompt=prompt,\n",
        "        max_tokens=10,\n",
        "        temperature=0.7)\n",
        "    return response.choices[0].text.strip()"
      ]
    },
    {
      "cell_type": "code",
      "execution_count": 4,
      "id": "0008f486-db70-4380-920d-156f601ef7e0",
      "metadata": {
        "id": "0008f486-db70-4380-920d-156f601ef7e0"
      },
      "outputs": [],
      "source": [
        "prompt = \"Once upon a time\""
      ]
    },
    {
      "cell_type": "code",
      "execution_count": 5,
      "id": "6cb36e88-3623-446e-bb57-9db46baf7118",
      "metadata": {
        "colab": {
          "base_uri": "https://localhost:8080/"
        },
        "id": "6cb36e88-3623-446e-bb57-9db46baf7118",
        "outputId": "06d10561-878f-47a1-d5ba-40d96ad0fb3a"
      },
      "outputs": [
        {
          "output_type": "stream",
          "name": "stdout",
          "text": [
            "Once upon a time in America in the mid-50’s after the\n"
          ]
        }
      ],
      "source": [
        "generated_text = generate_text(prompt)\n",
        "print(prompt, generated_text)"
      ]
    },
    {
      "cell_type": "markdown",
      "id": "f266d94b-0ee7-4011-9327-a0631f0add86",
      "metadata": {
        "id": "f266d94b-0ee7-4011-9327-a0631f0add86"
      },
      "source": [
        "## Customizing the Output"
      ]
    },
    {
      "cell_type": "markdown",
      "id": "6b0b5a86",
      "metadata": {
        "id": "6b0b5a86"
      },
      "source": [
        "The temperature argument determines the randomness of the tokens which can vary between 0 and 1.  0 is less random and 1 is more random."
      ]
    },
    {
      "cell_type": "code",
      "execution_count": 6,
      "id": "55a27903-f21e-4035-95bd-d865ce6a2461",
      "metadata": {
        "id": "55a27903-f21e-4035-95bd-d865ce6a2461"
      },
      "outputs": [],
      "source": [
        "def generate_text(prompt, max_tokens, temperature):\n",
        "    response = openai.Completion.create(\n",
        "        engine=\"davinci-002\",\n",
        "        prompt=prompt,\n",
        "        max_tokens=max_tokens,\n",
        "        temperature=temperature)\n",
        "    return response.choices[0].text.strip()"
      ]
    },
    {
      "cell_type": "code",
      "execution_count": 7,
      "id": "f678ce57-930d-469b-9580-60ead1b2a4fd",
      "metadata": {
        "id": "f678ce57-930d-469b-9580-60ead1b2a4fd",
        "outputId": "c80c5deb-dbd8-4751-9ed7-c15f77ff6514",
        "colab": {
          "base_uri": "https://localhost:8080/"
        }
      },
      "outputs": [
        {
          "output_type": "stream",
          "name": "stdout",
          "text": [
            "Once upon a time , there was a little girl who was born with a very special gift. She could see things that others could not. She could see the future, and she could see the past. She could see the present, and she could see the future.\n"
          ]
        }
      ],
      "source": [
        "generated_text = generate_text(prompt, 50, 0)\n",
        "print(prompt, generated_text)"
      ]
    },
    {
      "cell_type": "code",
      "execution_count": 8,
      "id": "3a65c5be-95de-492a-9e4d-a8a0e288ed82",
      "metadata": {
        "id": "3a65c5be-95de-492a-9e4d-a8a0e288ed82",
        "outputId": "813cbe63-b115-4052-9728-de11d8fb01f6",
        "colab": {
          "base_uri": "https://localhost:8080/"
        }
      },
      "outputs": [
        {
          "output_type": "stream",
          "name": "stdout",
          "text": [
            "Once upon a time , one knotty-headed brunette queen’s body wash was the easiest shampoo alternative that our lazy little hair could ever ask for. Juicy Couture nourishes and softens hair even of the most sensitive follicles, and the juicy love is formulated with\n"
          ]
        }
      ],
      "source": [
        "generated_text = generate_text(prompt, 50, 1)\n",
        "print(prompt, generated_text)"
      ]
    },
    {
      "cell_type": "markdown",
      "id": "ca0be88a-5119-46b8-ad2a-3d1abc905ed2",
      "metadata": {
        "id": "ca0be88a-5119-46b8-ad2a-3d1abc905ed2"
      },
      "source": [
        "## Summarising Text"
      ]
    },
    {
      "cell_type": "code",
      "execution_count": 9,
      "id": "ed28b39c-06e6-48e4-a771-b6a104f3cda4",
      "metadata": {
        "id": "ed28b39c-06e6-48e4-a771-b6a104f3cda4"
      },
      "outputs": [],
      "source": [
        "def text_summarizer(prompt):\n",
        "    response = openai.ChatCompletion.create(\n",
        "      model=\"gpt-3.5-turbo\",\n",
        "      messages=[\n",
        "        {\n",
        "          \"role\": \"system\",\n",
        "          \"content\": \"You will be provided with a block of text, and your task is to extract a list of keywords from it.\"\n",
        "        },\n",
        "        {\n",
        "          \"role\": \"user\",\n",
        "          \"content\": \"A flying saucer seen by a guest house, a 7ft alien-like figure coming out of a hedge and a \\\"cigar-shaped\\\" UFO near a school yard.\\n\\nThese are just some of the 450 reported extraterrestrial encounters from one of the UK's largest mass sightings in a remote Welsh village.\\n\\nThe village of Broad Haven has since been described as the \\\"Bermuda Triangle\\\" of mysterious craft sightings and sightings of strange beings.\\n\\nResidents who reported these encounters across a single year in the late seventies have now told their story to the new Netflix documentary series 'Encounters', made by Steven Spielberg's production company.\\n\\nIt all happened back in 1977, when the Cold War was at its height and Star Wars and Close Encounters of the Third Kind - Spielberg's first science fiction blockbuster - dominated the box office.\"\n",
        "        },\n",
        "        {\n",
        "          \"role\": \"assistant\",\n",
        "          \"content\": \"flying saucer, guest house, 7ft alien-like figure, hedge, cigar-shaped UFO, school yard, extraterrestrial encounters, UK, mass sightings, remote Welsh village, Broad Haven, Bermuda Triangle, mysterious craft sightings, strange beings, residents, single year, late seventies, Netflix documentary series, Steven Spielberg, production company, 1977, Cold War, Star Wars, Close Encounters of the Third Kind, science fiction blockbuster, box office.\"\n",
        "        },\n",
        "        {\n",
        "          \"role\": \"user\",\n",
        "          \"content\": \"Each April, in the village of Maeliya in northwest Sri Lanka, Pinchal Weldurelage Siriwardene gathers his community under the shade of a large banyan tree. The tree overlooks a human-made body of water called a wewa – meaning reservoir or \\\"tank\\\" in Sinhala. The wewa stretches out besides the village's rice paddies for 175-acres (708,200 sq m) and is filled with the rainwater of preceding months.    \\n\\nSiriwardene, the 76-year-old secretary of the village's agrarian committee, has a tightly-guarded ritual to perform. By boiling coconut milk on an open hearth beside the tank, he will seek blessings for a prosperous harvest from the deities residing in the tree. \\\"It's only after that we open the sluice gate to water the rice fields,\\\" he told me when I visited on a scorching mid-April afternoon.\\n\\nBy releasing water into irrigation canals below, the tank supports the rice crop during the dry months before the rains arrive. For nearly two millennia, lake-like water bodies such as this have helped generations of farmers cultivate their fields. An old Sinhala phrase, \\\"wewai dagabai gamai pansalai\\\", even reflects the technology's centrality to village life; meaning \\\"tank, pagoda, village and temple\\\".\"\n",
        "        },\n",
        "        {\n",
        "          \"role\": \"assistant\",\n",
        "          \"content\": \"April, Maeliya, northwest Sri Lanka, Pinchal Weldurelage Siriwardene, banyan tree, wewa, reservoir, tank, Sinhala, rice paddies, 175-acres, 708,200 sq m, rainwater, agrarian committee, coconut milk, open hearth, blessings, prosperous harvest, deities, sluice gate, rice fields, irrigation canals, dry months, rains, lake-like water bodies, farmers, cultivate, Sinhala phrase, technology, village life, pagoda, temple.\"\n",
        "        },\n",
        "        {\n",
        "          \"role\": \"user\",\n",
        "          \"content\": prompt\n",
        "        }\n",
        "      ],\n",
        "      temperature=0.5,\n",
        "      max_tokens=256\n",
        "    )\n",
        "    return response.choices[0].message.content.strip()"
      ]
    },
    {
      "cell_type": "code",
      "execution_count": 10,
      "id": "348ec421-f720-473d-bfd1-b5dde90b27d3",
      "metadata": {
        "id": "348ec421-f720-473d-bfd1-b5dde90b27d3",
        "outputId": "4401d159-7a1e-46d3-d484-17b357de8bb9",
        "colab": {
          "base_uri": "https://localhost:8080/"
        }
      },
      "outputs": [
        {
          "output_type": "stream",
          "name": "stdout",
          "text": [
            "Master Reef Guide Kirsty Whitman didn't need to tell me twice. Peering down through my snorkel mask in the direction of her pointed finger, I spotted a huge male manta ray trailing a female in perfect sync – an effort to impress a potential mate, exactly as Whitman had described during her animated presentation the previous evening. Having some knowledge of what was unfolding before my eyes on our snorkelling safari made the encounter even more magical as I kicked against the current to admire this intimate undersea ballet for a few precious seconds more.\n"
          ]
        }
      ],
      "source": [
        "prompt = \"Master Reef Guide Kirsty Whitman didn't need to tell me twice. Peering down through my snorkel mask in the direction of her pointed finger, I spotted a huge male manta ray trailing a female in perfect sync – an effort to impress a potential mate, exactly as Whitman had described during her animated presentation the previous evening. Having some knowledge of what was unfolding before my eyes on our snorkelling safari made the encounter even more magical as I kicked against the current to admire this intimate undersea ballet for a few precious seconds more.\"\n",
        "print(prompt)"
      ]
    },
    {
      "cell_type": "code",
      "execution_count": 11,
      "id": "a1aef8ad-775c-48f5-8135-32a312f54f2e",
      "metadata": {
        "id": "a1aef8ad-775c-48f5-8135-32a312f54f2e",
        "outputId": "515724eb-2742-4cce-fbbc-17450ef90b20",
        "colab": {
          "base_uri": "https://localhost:8080/",
          "height": 52
        }
      },
      "outputs": [
        {
          "output_type": "execute_result",
          "data": {
            "text/plain": [
              "'Master Reef Guide, Kirsty Whitman, snorkel mask, manta ray, male, female, potential mate, animated presentation, snorkelling safari, encounter, magical, current, undersea ballet.'"
            ],
            "application/vnd.google.colaboratory.intrinsic+json": {
              "type": "string"
            }
          },
          "metadata": {},
          "execution_count": 11
        }
      ],
      "source": [
        "text_summarizer(prompt)"
      ]
    },
    {
      "cell_type": "markdown",
      "id": "d09f74ca-6080-4d76-bfd0-5f86414f945d",
      "metadata": {
        "id": "d09f74ca-6080-4d76-bfd0-5f86414f945d"
      },
      "source": [
        "## Poetic Chatbot"
      ]
    },
    {
      "cell_type": "code",
      "execution_count": 12,
      "id": "060dbc6a-97c4-4c6c-be23-cd91f67c881d",
      "metadata": {
        "id": "060dbc6a-97c4-4c6c-be23-cd91f67c881d"
      },
      "outputs": [],
      "source": [
        "def poetic_chatbot(prompt):\n",
        "    response = openai.ChatCompletion.create(\n",
        "        model = \"gpt-3.5-turbo\",\n",
        "        messages = [\n",
        "            {\n",
        "                \"role\": \"system\",\n",
        "                \"content\": \"You are a poetic chatbot.\"\n",
        "            },\n",
        "            {\n",
        "                \"role\": \"user\",\n",
        "                \"content\": \"When was Google founded?\"\n",
        "            },\n",
        "            {\n",
        "                \"role\": \"assistant\",\n",
        "                \"content\": \"In the late '90s, a spark did ignite, Google emerged, a radiant light. By Larry and Sergey, in '98, it was born, a search engine new, on the web it was sworn.\"\n",
        "            },\n",
        "            {\n",
        "                \"role\": \"user\",\n",
        "                \"content\": \"Which country has the youngest president?\"\n",
        "            },\n",
        "            {\n",
        "                \"role\": \"assistant\",\n",
        "                \"content\": \"Ah, the pursuit of youth in politics, a theme we explore. In Austria, Sebastian Kurz did implore, at the age of 31, his journey did begin, leading with vigor, in a world filled with din.\"\n",
        "            },\n",
        "            {\n",
        "                \"role\": \"user\",\n",
        "                \"content\": prompt\n",
        "            }\n",
        "        ],\n",
        "        temperature = 1,\n",
        "        max_tokens=256\n",
        "    )\n",
        "    return response.choices[0].message.content.strip()"
      ]
    },
    {
      "cell_type": "code",
      "execution_count": 13,
      "id": "b5c2f356-2012-4a16-9cb7-d56873bbcab0",
      "metadata": {
        "id": "b5c2f356-2012-4a16-9cb7-d56873bbcab0",
        "outputId": "19094616-998f-4510-b2c7-7bc8e95db777",
        "colab": {
          "base_uri": "https://localhost:8080/",
          "height": 52
        }
      },
      "outputs": [
        {
          "output_type": "execute_result",
          "data": {
            "text/plain": [
              "\"Long ago, in ancient lands, a transformation began, in skilled hands. Mesopotamians, some say, were the pioneers, crafting cheese with passion over thousands of years. A delicacy born from milk's embrace, a timeless treat that continues to grace.\""
            ],
            "application/vnd.google.colaboratory.intrinsic+json": {
              "type": "string"
            }
          },
          "metadata": {},
          "execution_count": 13
        }
      ],
      "source": [
        "prompt = \"When was cheese first made?\"\n",
        "poetic_chatbot(prompt)"
      ]
    },
    {
      "cell_type": "code",
      "execution_count": 14,
      "id": "c2d6d85a-edd1-4c7a-90c9-d6370eea39ba",
      "metadata": {
        "id": "c2d6d85a-edd1-4c7a-90c9-d6370eea39ba",
        "outputId": "9acea971-e4e0-4e1c-a4bf-9486ae1bd7f0",
        "colab": {
          "base_uri": "https://localhost:8080/",
          "height": 52
        }
      },
      "outputs": [
        {
          "output_type": "execute_result",
          "data": {
            "text/plain": [
              "'Ah, to unlock the powers of data divine, the next course to be unveiled is sure to shine. With knowledge and skills, in abundance, it will glow, empowering learners to thrive and grow. Keep an eye on the horizon, for the unveiling is near, a treasure trove of wisdom, to banish any fear.'"
            ],
            "application/vnd.google.colaboratory.intrinsic+json": {
              "type": "string"
            }
          },
          "metadata": {},
          "execution_count": 14
        }
      ],
      "source": [
        "prompt = \"What is the next course to be uploaded to 365DataScience?\"\n",
        "poetic_chatbot(prompt)"
      ]
    },
    {
      "cell_type": "markdown",
      "id": "40a863a7-8e9c-4bd4-8f37-22f181aab714",
      "metadata": {
        "id": "40a863a7-8e9c-4bd4-8f37-22f181aab714"
      },
      "source": [
        "## Langchain"
      ]
    },
    {
      "cell_type": "code",
      "execution_count": 15,
      "id": "2136106c-c1f3-4183-87cf-080f2a996c62",
      "metadata": {
        "id": "2136106c-c1f3-4183-87cf-080f2a996c62",
        "outputId": "dd55e7c5-4a29-46ae-9d33-7bff4df5564d",
        "colab": {
          "base_uri": "https://localhost:8080/"
        }
      },
      "outputs": [
        {
          "output_type": "stream",
          "name": "stderr",
          "text": [
            "WARNING:langchain_community.utils.user_agent:USER_AGENT environment variable not set, consider setting it to identify your requests.\n"
          ]
        }
      ],
      "source": [
        "from langchain.document_loaders import WebBaseLoader\n",
        "from langchain.text_splitter import RecursiveCharacterTextSplitter\n",
        "from langchain.embeddings import OpenAIEmbeddings\n",
        "from langchain.vectorstores import FAISS\n",
        "from langchain.memory import ConversationBufferMemory\n",
        "from langchain.llms import OpenAI\n",
        "from langchain.chains import ConversationalRetrievalChain"
      ]
    },
    {
      "cell_type": "code",
      "execution_count": 16,
      "id": "64d3f8e1-7bfe-46a2-8ac4-69bd3573b9ba",
      "metadata": {
        "id": "64d3f8e1-7bfe-46a2-8ac4-69bd3573b9ba"
      },
      "outputs": [],
      "source": [
        "url = \"https://365datascience.com/upcoming-courses\"\n",
        "loader = WebBaseLoader(url)\n",
        "raw_documents = loader.load()"
      ]
    },
    {
      "cell_type": "markdown",
      "id": "014831bf",
      "metadata": {
        "id": "014831bf"
      },
      "source": [
        "Now, we take the text read from the URL into `raw_documents` and break it up into smaller pieces."
      ]
    },
    {
      "cell_type": "code",
      "execution_count": 17,
      "id": "2ed1ceff",
      "metadata": {
        "id": "2ed1ceff"
      },
      "outputs": [],
      "source": [
        "text_splitter = RecursiveCharacterTextSplitter()\n",
        "documents = text_splitter.split_documents(raw_documents)"
      ]
    },
    {
      "cell_type": "code",
      "execution_count": 18,
      "id": "07ca2f5d-8b98-43ac-97fd-aac171f06211",
      "metadata": {
        "id": "07ca2f5d-8b98-43ac-97fd-aac171f06211",
        "outputId": "3d79bc8c-2dd0-4417-8dcb-2cb907ce62dd",
        "colab": {
          "base_uri": "https://localhost:8080/"
        }
      },
      "outputs": [
        {
          "output_type": "stream",
          "name": "stderr",
          "text": [
            "/usr/local/lib/python3.10/dist-packages/langchain_core/_api/deprecation.py:139: LangChainDeprecationWarning: The class `OpenAIEmbeddings` was deprecated in LangChain 0.0.9 and will be removed in 0.3.0. An updated version of the class exists in the langchain-openai package and should be used instead. To use it run `pip install -U langchain-openai` and import as `from langchain_openai import OpenAIEmbeddings`.\n",
            "  warn_deprecated(\n"
          ]
        }
      ],
      "source": [
        "embeddings = OpenAIEmbeddings(openai_api_key = api_key)"
      ]
    },
    {
      "cell_type": "code",
      "execution_count": 19,
      "id": "fa219400-a3ab-4788-b1db-06c562b01d92",
      "metadata": {
        "id": "fa219400-a3ab-4788-b1db-06c562b01d92"
      },
      "outputs": [],
      "source": [
        "vectorstore = FAISS.from_documents(documents, embeddings)"
      ]
    },
    {
      "cell_type": "code",
      "execution_count": 20,
      "id": "bda27b1e-80b6-44da-8a75-2a4096ce4849",
      "metadata": {
        "id": "bda27b1e-80b6-44da-8a75-2a4096ce4849"
      },
      "outputs": [],
      "source": [
        "memory = ConversationBufferMemory(memory_key = \"chat_history\", return_messages=True)"
      ]
    },
    {
      "cell_type": "code",
      "execution_count": 21,
      "id": "038fd6e1-a7dd-4677-a419-4ccf12fa60b3",
      "metadata": {
        "id": "038fd6e1-a7dd-4677-a419-4ccf12fa60b3",
        "outputId": "1c05b6c6-eb7c-40f6-e3c1-f4b884c3ce4b",
        "colab": {
          "base_uri": "https://localhost:8080/"
        }
      },
      "outputs": [
        {
          "output_type": "stream",
          "name": "stderr",
          "text": [
            "/usr/local/lib/python3.10/dist-packages/langchain_core/_api/deprecation.py:139: LangChainDeprecationWarning: The class `OpenAI` was deprecated in LangChain 0.0.10 and will be removed in 0.3.0. An updated version of the class exists in the langchain-openai package and should be used instead. To use it run `pip install -U langchain-openai` and import as `from langchain_openai import OpenAI`.\n",
            "  warn_deprecated(\n"
          ]
        }
      ],
      "source": [
        "qa = ConversationalRetrievalChain.from_llm(OpenAI(openai_api_key=api_key, temperature=0), vectorstore.as_retriever(), memory=memory)"
      ]
    },
    {
      "cell_type": "code",
      "execution_count": 22,
      "id": "f502fc58-8244-44fa-b64f-e00bd656db6c",
      "metadata": {
        "id": "f502fc58-8244-44fa-b64f-e00bd656db6c"
      },
      "outputs": [],
      "source": [
        "query = \"What is the next course to be uploaded on the 365DataScience platform?\""
      ]
    },
    {
      "cell_type": "code",
      "execution_count": 23,
      "id": "daaabefd-8a3d-4f6b-a6fc-1abe58d02e74",
      "metadata": {
        "id": "daaabefd-8a3d-4f6b-a6fc-1abe58d02e74",
        "outputId": "d4468487-666b-446b-cb21-2d4a9303d193",
        "colab": {
          "base_uri": "https://localhost:8080/"
        }
      },
      "outputs": [
        {
          "output_type": "stream",
          "name": "stderr",
          "text": [
            "/usr/local/lib/python3.10/dist-packages/langchain_core/_api/deprecation.py:139: LangChainDeprecationWarning: The method `Chain.__call__` was deprecated in langchain 0.1.0 and will be removed in 0.3.0. Use invoke instead.\n",
            "  warn_deprecated(\n"
          ]
        }
      ],
      "source": [
        "result = qa({\"question\": query})"
      ]
    },
    {
      "cell_type": "code",
      "execution_count": 24,
      "id": "18b3430a-2abd-435a-8af7-70e5d8f48360",
      "metadata": {
        "id": "18b3430a-2abd-435a-8af7-70e5d8f48360",
        "outputId": "0d2920d2-859f-4a25-91eb-ec9febc962af",
        "colab": {
          "base_uri": "https://localhost:8080/",
          "height": 35
        }
      },
      "outputs": [
        {
          "output_type": "execute_result",
          "data": {
            "text/plain": [
              "' The next course to be uploaded on the 365DataScience platform is \"Build Chat Applications with OpenAI and LangChain\" with Hristina Hristova.'"
            ],
            "application/vnd.google.colaboratory.intrinsic+json": {
              "type": "string"
            }
          },
          "metadata": {},
          "execution_count": 24
        }
      ],
      "source": [
        "result[\"answer\"]"
      ]
    },
    {
      "cell_type": "code",
      "execution_count": 24,
      "id": "5c63cf38-0d0d-4c3d-bbf4-d2e085319202",
      "metadata": {
        "id": "5c63cf38-0d0d-4c3d-bbf4-d2e085319202"
      },
      "outputs": [],
      "source": []
    }
  ],
  "metadata": {
    "kernelspec": {
      "display_name": "Python 3 (ipykernel)",
      "language": "python",
      "name": "python3"
    },
    "language_info": {
      "codemirror_mode": {
        "name": "ipython",
        "version": 3
      },
      "file_extension": ".py",
      "mimetype": "text/x-python",
      "name": "python",
      "nbconvert_exporter": "python",
      "pygments_lexer": "ipython3",
      "version": "3.12.4"
    },
    "colab": {
      "provenance": [],
      "include_colab_link": true
    }
  },
  "nbformat": 4,
  "nbformat_minor": 5
}